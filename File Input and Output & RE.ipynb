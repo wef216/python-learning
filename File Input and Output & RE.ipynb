{
 "cells": [
  {
   "cell_type": "markdown",
   "metadata": {},
   "source": [
    "## File\n",
    "### systems and path\n",
    "A file in python has two properties: *tilename* and *path*. Path separator in windows \"\\\\\"."
   ]
  },
  {
   "cell_type": "code",
   "execution_count": 1,
   "metadata": {},
   "outputs": [],
   "source": [
    "# the os package\n",
    "import os"
   ]
  },
  {
   "cell_type": "markdown",
   "metadata": {},
   "source": [
    "- Using *os.path.join()* fuction to resemble path component with path separator."
   ]
  },
  {
   "cell_type": "code",
   "execution_count": 2,
   "metadata": {},
   "outputs": [
    {
     "name": "stdout",
     "output_type": "stream",
     "text": [
      "usr\\bin\\spam\n"
     ]
    }
   ],
   "source": [
    "print(os.path.join(\"usr\",\"bin\",\"spam\"))"
   ]
  },
  {
   "cell_type": "code",
   "execution_count": 4,
   "metadata": {},
   "outputs": [
    {
     "name": "stdout",
     "output_type": "stream",
     "text": [
      "\\home\\account.txt\n",
      "\\home\\details.csv\n",
      "\\home\\invite.docx\n"
     ]
    }
   ],
   "source": [
    "myFiles = [\"account.txt\", \"details.csv\", \"invite.docx\"]\n",
    "for filename in myFiles:\n",
    "    print(os.path.join('\\home', filename))"
   ]
  },
  {
   "cell_type": "markdown",
   "metadata": {},
   "source": [
    "- Get the current working directory *os.getcwd*; change the current directory: *os.chdir*"
   ]
  },
  {
   "cell_type": "code",
   "execution_count": 18,
   "metadata": {},
   "outputs": [
    {
     "name": "stdout",
     "output_type": "stream",
     "text": [
      "C:\\Users\\fuwei\\Dropbox\\Python Learning Code\n",
      "C:\\Users\\fuwei\\Dropbox\n",
      "C:\\Users\\fuwei\\Dropbox\\Python Learning Code\n"
     ]
    }
   ],
   "source": [
    "print(os.getcwd())\n",
    "os.chdir(\"C:\\\\Users\\\\fuwei\\\\Dropbox\")\n",
    "print(os.getcwd())\n",
    "os.chdir(\"C://Users//fuwei//Dropbox/Python Learning Code\")\n",
    "print(os.getcwd())"
   ]
  },
  {
   "cell_type": "markdown",
   "metadata": {},
   "source": [
    "- Creat New folders using *os.makedirs()*\n",
    "- Convert a **relative path** into a **absolute one**, using the *os.path.abspath()*\n",
    "- *os.path.isabs(path)* test if the path is a absolute path\n",
    "- Convert a **absolute path** into a **relative path**, using the *os.path.relpath(path start)*"
   ]
  },
  {
   "cell_type": "code",
   "execution_count": 20,
   "metadata": {},
   "outputs": [
    {
     "name": "stdout",
     "output_type": "stream",
     "text": [
      "windows\n",
      "..\\windows\n"
     ]
    }
   ],
   "source": [
    "print(os.path.relpath(\"C:\\\\windows\", \"C:\\\\\"))\n",
    "print(os.path.relpath(\"C:\\\\windows\", \"C:\\\\spam\"))"
   ]
  },
  {
   "cell_type": "code",
   "execution_count": 22,
   "metadata": {},
   "outputs": [
    {
     "name": "stdout",
     "output_type": "stream",
     "text": [
      "C:\\windows\\system32\\cal.exe\n",
      "C:\\windows\\system32\n",
      "cal.exe\n",
      "('C:\\\\windows\\\\system32', 'cal.exe')\n",
      "\\\n"
     ]
    }
   ],
   "source": [
    "path = \"C:\\\\windows\\\\system32\\\\cal.exe\"\n",
    "print(path)\n",
    "print(os.path.dirname(path))\n",
    "print(os.path.basename(path))\n",
    "print(os.path.split(path))\n",
    "print(os.path.sep)"
   ]
  },
  {
   "cell_type": "markdown",
   "metadata": {},
   "source": [
    "- Access to the file in the folder\n",
    "1. List all the files: *os.listdir(path)*\n",
    "2. Get the size information *os.path.getsize(path)*\n"
   ]
  },
  {
   "cell_type": "markdown",
   "metadata": {},
   "source": [
    "### reading and writing files:\n",
    "- call **open()** function to return a File object;\n",
    "- call **read()** or **write()** method on the File object;\n",
    "- call **close()** function to close the File object.\n",
    "\n",
    "A file object has methods like:\n",
    "- **filename.read()**: read the entire file content as a larger string, return a string.\n",
    "- **filename.readlines()**: return a list each element of which is a line in the file.\n",
    "- **filename.write()**: writing any content to the file."
   ]
  },
  {
   "cell_type": "code",
   "execution_count": 47,
   "metadata": {},
   "outputs": [
    {
     "data": {
      "text/plain": [
       "<function TextIOWrapper.close()>"
      ]
     },
     "execution_count": 47,
     "metadata": {},
     "output_type": "execute_result"
    }
   ],
   "source": [
    "myfile = open(\"demo.txt\", \"w\")\n",
    "myfile.write('Hello World!\\n')\n",
    "myfile.close"
   ]
  },
  {
   "cell_type": "code",
   "execution_count": 48,
   "metadata": {},
   "outputs": [
    {
     "data": {
      "text/plain": [
       "<function TextIOWrapper.close()>"
      ]
     },
     "execution_count": 48,
     "metadata": {},
     "output_type": "execute_result"
    }
   ],
   "source": [
    "myfile = open(\"demo.txt\", \"a\")\n",
    "myfile.write('Goodbye World\\n')\n",
    "myfile.close"
   ]
  },
  {
   "cell_type": "code",
   "execution_count": 49,
   "metadata": {},
   "outputs": [
    {
     "data": {
      "text/plain": [
       "<function TextIOWrapper.close()>"
      ]
     },
     "execution_count": 49,
     "metadata": {},
     "output_type": "execute_result"
    }
   ],
   "source": [
    "myfile = open(\"demo.txt\", \"r\")\n",
    "c = myfile.readlines()\n",
    "myfile.close"
   ]
  },
  {
   "cell_type": "code",
   "execution_count": 60,
   "metadata": {},
   "outputs": [
    {
     "name": "stdout",
     "output_type": "stream",
     "text": [
      "[]\n"
     ]
    }
   ],
   "source": [
    "print(c)"
   ]
  },
  {
   "cell_type": "markdown",
   "metadata": {},
   "source": [
    "### Save variables/data using the **shelve\" package."
   ]
  },
  {
   "cell_type": "code",
   "execution_count": 51,
   "metadata": {},
   "outputs": [],
   "source": [
    "import shelve"
   ]
  },
  {
   "cell_type": "code",
   "execution_count": 54,
   "metadata": {},
   "outputs": [
    {
     "data": {
      "text/plain": [
       "<bound method Shelf.close of <shelve.DbfilenameShelf object at 0x00000242A1C61278>>"
      ]
     },
     "execution_count": 54,
     "metadata": {},
     "output_type": "execute_result"
    }
   ],
   "source": [
    "mydata = shelve.open(\"mydata\")\n",
    "cat = [\"Zophie\", \"Pooka\", \"Simon\"]\n",
    "mydata[\"cats\"] = cat\n",
    "mydata.close"
   ]
  },
  {
   "cell_type": "code",
   "execution_count": 59,
   "metadata": {},
   "outputs": [
    {
     "name": "stdout",
     "output_type": "stream",
     "text": [
      "['Zophie', 'Pooka', 'Simon']\n"
     ]
    },
    {
     "data": {
      "text/plain": [
       "<bound method Shelf.close of <shelve.DbfilenameShelf object at 0x00000242A1BC6C18>>"
      ]
     },
     "execution_count": 59,
     "metadata": {},
     "output_type": "execute_result"
    }
   ],
   "source": [
    "mydata = shelve.open(\"mydata\")\n",
    "print(mydata[\"cats\"])  ## it is like saving using a dictionary.\n",
    "mydata.close"
   ]
  },
  {
   "cell_type": "markdown",
   "metadata": {},
   "source": [
    "## Regular Expressions"
   ]
  },
  {
   "cell_type": "markdown",
   "metadata": {},
   "source": [
    "**Example:** Write a function to identify the phone number."
   ]
  },
  {
   "cell_type": "code",
   "execution_count": 83,
   "metadata": {},
   "outputs": [],
   "source": [
    "def isPhoneNumber(text):\n",
    "    # criterion-1: 12 digits\n",
    "    if len(text) != 12:\n",
    "        return False\n",
    "    for i in range(0,3):\n",
    "        if not text[i].isdecimal():\n",
    "            return False\n",
    "    if text[3] != \"-\":\n",
    "        return False\n",
    "    for i in range(4,7):\n",
    "        if not text[i].isdecimal():\n",
    "            return False\n",
    "    if text[7] != \"-\":\n",
    "        return False\n",
    "    for i in range(8,12):\n",
    "        if not text[i].isdecimal():\n",
    "            return False \n",
    "    return True\n"
   ]
  },
  {
   "cell_type": "code",
   "execution_count": 86,
   "metadata": {},
   "outputs": [
    {
     "name": "stdout",
     "output_type": "stream",
     "text": [
      "324-342-2323 is a phone number:\n",
      "True\n",
      "This is a False phone number\n",
      "415-555-1011\n",
      "415-555-9999\n"
     ]
    }
   ],
   "source": [
    "print(\"324-342-2323 is a phone number:\" )\n",
    "print(isPhoneNumber(\"324-342-2323\"))\n",
    "print(\"This is a {} phone number\".format(isPhoneNumber(\"hello world\")))\n",
    "message = \"Call me at 415-555-1011 tomorrow, 415-555-9999 is my office.\"\n",
    "for i in range(len(message)):\n",
    "    chunk = message[i:i+12]\n",
    "    if isPhoneNumber(chunk):\n",
    "        print(chunk)\n"
   ]
  },
  {
   "cell_type": "markdown",
   "metadata": {},
   "source": [
    "### Using **regular expression** to resovle the above question.\n",
    "- Find the patterns of the text with regular expression.\n",
    "- Package *RE* helps with the regular expression. \n",
    "    1. First, represent the pattern via a string\n",
    "    2. Then, put the string of pattern into the *re.complie()* to create a **RE** object\n",
    "    3. Then search the text using the **regular expression** object as a template, *regex.search(str)* which returns a match object\n",
    "    4. Call the match object *search* method to reveil the elements found\n",
    "        (1)*search* method returns the first match\n",
    "        (2)*findall* method returns all the matches in a list."
   ]
  },
  {
   "cell_type": "code",
   "execution_count": 106,
   "metadata": {},
   "outputs": [
    {
     "name": "stdout",
     "output_type": "stream",
     "text": [
      "Step-1: Create an Regex object\n",
      "<class 're.Pattern'>\n",
      "\n",
      " Step-2: Search\n",
      "('415', '555-1011')\n",
      "[('415', '555-1011'), ('415', '555-9999')]\n"
     ]
    }
   ],
   "source": [
    "import re\n",
    "print(\"Step-1: Create an Regex object\")\n",
    "phoneNumberRegex = re.compile(r\"(\\d{3})-(\\d{3}-\\d{4})\")\n",
    "print(type(phoneNumberRegex))\n",
    "\n",
    "print(\"\\n Step-2: Search\")\n",
    "result = phoneNumberRegex.search(message)\n",
    "print(result.groups())\n",
    "result_all = phoneNumberRegex.findall(message)\n",
    "print(result_all)"
   ]
  },
  {
   "cell_type": "markdown",
   "metadata": {},
   "source": [
    "### More on regular expression\n",
    "- pipe search: \"or\"\n",
    "- optional match: ? flags the groups that precede it as optional part of the pattern.\n",
    "- match zero or more: * the groups that precede it.\n",
    "- match one or more: + the groups that precede it.\n",
    "- match with repetitions: {num}"
   ]
  },
  {
   "cell_type": "code",
   "execution_count": 126,
   "metadata": {},
   "outputs": [
    {
     "name": "stdout",
     "output_type": "stream",
     "text": [
      "EXAMPLE of Pipe search:\n",
      "Batmobile\n",
      "Batmobile\n",
      "mobile\n",
      "('mobile',)\n",
      "\n",
      " EXAMPLE of Optional Match:\n",
      "Batman\n",
      "\n",
      " EXAMPLE of Match Zero or More:\n",
      "Batwowoman\n",
      "\n",
      " EXAMPLE of Match One or More:\n",
      "Batwowowoman\n",
      "\n",
      " EXAMPLE of Repetitive Match:\n",
      "hahaha\n",
      "mo is none? True\n"
     ]
    }
   ],
   "source": [
    "print(\"EXAMPLE of Pipe search:\")\n",
    "batRegex = re.compile(r\"Bat(man|mobile|copter|bat)\")\n",
    "mo = batRegex.search(\"Batmobile lost a wheel\")\n",
    "print(mo.group())\n",
    "print(mo.group(0))\n",
    "print(mo.group(1))\n",
    "print(mo.groups())\n",
    "\n",
    "print(\"\\n EXAMPLE of Optional Match:\")\n",
    "batRegex = re.compile(r\"Bat(wo)?man\")\n",
    "mo = batRegex.search(\"The Adventures of Batman\")\n",
    "print(mo.group())\n",
    "\n",
    "print(\"\\n EXAMPLE of Match Zero or More:\")\n",
    "batRegex = re.compile(r\"Bat(wo)*man\")\n",
    "mo = batRegex.search(\"The Adventures of Batwowoman\")\n",
    "print(mo.group())\n",
    "\n",
    "print(\"\\n EXAMPLE of Match One or More:\")\n",
    "batRegex = re.compile(r\"Bat(wo)+man\")\n",
    "mo = batRegex.search(\"The Adventures of Batwowowoman\")\n",
    "print(mo.group())\n",
    "\n",
    "print(\"\\n EXAMPLE of Repetitive Match:\")\n",
    "batRegex = re.compile(r\"(ha){3}\")\n",
    "mo = batRegex.search(\"hahahahaha\")\n",
    "print(mo.group())\n",
    "mo = batRegex.search(\"ha\")\n",
    "print(\"mo is none? {}\".format(mo is None))"
   ]
  },
  {
   "cell_type": "markdown",
   "metadata": {},
   "source": [
    "### Character Class\n",
    "- \\d: numerical digits 0-9\n",
    "- \\D: any character rather than the numerical digits 0-9\n",
    "- \\w: any letter, numerical digit, and underscore character, (word)\n",
    "- \\W: any character that is not a letter, numerical digit or the underscore character\n",
    "- \\s: any space, tab, or newline character (space)\n",
    "- \\S: any character that is not a space, newline or tab\n",
    "- []: used to customize own search class, specify a range of numerical digit, letter.\n",
    "- ^, \\$, match from the start or end.\n",
    "- .: dot, represent a character except a newline character.\n",
    "- .*: match everything."
   ]
  },
  {
   "cell_type": "code",
   "execution_count": 130,
   "metadata": {},
   "outputs": [
    {
     "name": "stdout",
     "output_type": "stream",
     "text": [
      "o\n",
      "['o', 'o', 'o', 'e', 'a', 'a', 'o', 'o', 'A', 'O', 'O']\n"
     ]
    }
   ],
   "source": [
    "vowelRegex = re.compile(r\"[aeiouAEIOU]\")\n",
    "mo = vowelRegex.search(\"RoboCop eats baby food. BABY FOOD.\")\n",
    "print(mo.group())\n",
    "mo = vowelRegex.findall(\"RoboCop eats baby food. BABY FOOD.\")\n",
    "print(mo)"
   ]
  },
  {
   "cell_type": "code",
   "execution_count": 132,
   "metadata": {},
   "outputs": [
    {
     "name": "stdout",
     "output_type": "stream",
     "text": [
      "2\n"
     ]
    }
   ],
   "source": [
    "endwithNumber = re.compile(r\"\\d$\")\n",
    "print(endwithNumber.search(\"Your number is 42\").group())"
   ]
  },
  {
   "cell_type": "code",
   "execution_count": 137,
   "metadata": {},
   "outputs": [
    {
     "name": "stdout",
     "output_type": "stream",
     "text": [
      "['cat', 'hat']\n"
     ]
    }
   ],
   "source": [
    "atRegex = re.compile(r\".at\")\n",
    "print(atRegex.findall(\"The cat in the hat.\"))"
   ]
  },
  {
   "cell_type": "markdown",
   "metadata": {},
   "source": [
    "#### Combine re options: \n",
    "- re.INGNORECASE: ignore the uppercase and lowercase in the match\n",
    "- re.DOTALL: dot . reprent any single character including the newline character\n",
    "- re.VERBOSE: get the permission for writing the comments in the regular expression."
   ]
  },
  {
   "cell_type": "markdown",
   "metadata": {},
   "source": [
    "### Substituting Strings with the sub() Method\n",
    "- in the first argument of **sub()**, \\1, \\2, \\3 mean \"Enter the text of the group 1,2,3 in the substitutions"
   ]
  },
  {
   "cell_type": "code",
   "execution_count": 136,
   "metadata": {},
   "outputs": [
    {
     "name": "stdout",
     "output_type": "stream",
     "text": [
      "EXAMPLE of Sub():\n",
      "CENCORED gave the secret documents to Agenet Bob.\n",
      "EXAMPLE of Sub() with \u0001:\n",
      "A**** gave the secret documents to Agenet Bob.\n"
     ]
    }
   ],
   "source": [
    "print(\"EXAMPLE of Sub():\")\n",
    "namesRegex =re.compile(r\"Agent \\w+\")\n",
    "print(namesRegex.sub(\"CENCORED\", \"Agent Alice gave the secret documents to Agenet Bob.\"))\n",
    "\n",
    "print(\"EXAMPLE of Sub() with \\1:\")\n",
    "namesRegex =re.compile(r\"Agent (\\w)\\w+\")\n",
    "print(namesRegex.sub(r\"\\1****\", \"Agent Alice gave the secret documents to Agenet Bob.\"))"
   ]
  },
  {
   "cell_type": "code",
   "execution_count": null,
   "metadata": {},
   "outputs": [],
   "source": []
  }
 ],
 "metadata": {
  "kernelspec": {
   "display_name": "Python 3",
   "language": "python",
   "name": "python3"
  },
  "language_info": {
   "codemirror_mode": {
    "name": "ipython",
    "version": 3
   },
   "file_extension": ".py",
   "mimetype": "text/x-python",
   "name": "python",
   "nbconvert_exporter": "python",
   "pygments_lexer": "ipython3",
   "version": "3.7.1"
  },
  "toc": {
   "base_numbering": 1,
   "nav_menu": {},
   "number_sections": true,
   "sideBar": true,
   "skip_h1_title": false,
   "title_cell": "Table of Contents",
   "title_sidebar": "Contents",
   "toc_cell": false,
   "toc_position": {},
   "toc_section_display": true,
   "toc_window_display": false
  },
  "varInspector": {
   "cols": {
    "lenName": 16,
    "lenType": 16,
    "lenVar": 40
   },
   "kernels_config": {
    "python": {
     "delete_cmd_postfix": "",
     "delete_cmd_prefix": "del ",
     "library": "var_list.py",
     "varRefreshCmd": "print(var_dic_list())"
    },
    "r": {
     "delete_cmd_postfix": ") ",
     "delete_cmd_prefix": "rm(",
     "library": "var_list.r",
     "varRefreshCmd": "cat(var_dic_list()) "
    }
   },
   "types_to_exclude": [
    "module",
    "function",
    "builtin_function_or_method",
    "instance",
    "_Feature"
   ],
   "window_display": false
  }
 },
 "nbformat": 4,
 "nbformat_minor": 2
}
