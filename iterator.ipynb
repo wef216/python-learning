{
 "cells": [
  {
   "cell_type": "markdown",
   "metadata": {},
   "source": [
    "# Iterator"
   ]
  },
  {
   "cell_type": "markdown",
   "metadata": {},
   "source": [
    "## for loop iterator"
   ]
  },
  {
   "cell_type": "code",
   "execution_count": 1,
   "metadata": {},
   "outputs": [
    {
     "name": "stdout",
     "output_type": "stream",
     "text": [
      "A\n",
      "B\n",
      "C\n"
     ]
    }
   ],
   "source": [
    "s = \"ABC\"\n",
    "for i in s:\n",
    "    print(i)\n",
    "    "
   ]
  },
  {
   "cell_type": "code",
   "execution_count": 4,
   "metadata": {},
   "outputs": [
    {
     "name": "stdout",
     "output_type": "stream",
     "text": [
      "<class 'str_iterator'>\n",
      "A\n",
      "B\n",
      "C\n"
     ]
    }
   ],
   "source": [
    "# first create an iterator\n",
    "#it = iter(s)\n",
    "it = s.__iter__()\n",
    "print(type(it))\n",
    "\n",
    "while True:\n",
    "    try:\n",
    "        print(next(it))\n",
    "    except StopIteration:\n",
    "        del it\n",
    "        break\n"
   ]
  },
  {
   "cell_type": "markdown",
   "metadata": {},
   "source": [
    "## Example"
   ]
  },
  {
   "cell_type": "code",
   "execution_count": 18,
   "metadata": {},
   "outputs": [
    {
     "name": "stdout",
     "output_type": "stream",
     "text": [
      "P\n",
      "i\n"
     ]
    }
   ],
   "source": [
    "s2 = \"Pig and Pepper\"\n",
    "it2 = iter(s2)\n",
    "print(next(it2))\n",
    "print(it2.__next__())"
   ]
  },
  {
   "cell_type": "code",
   "execution_count": 11,
   "metadata": {},
   "outputs": [
    {
     "name": "stdout",
     "output_type": "stream",
     "text": [
      "Pig\n"
     ]
    }
   ],
   "source": [
    "import re, reprlib\n",
    "\n",
    "RE_WORD = re.compile(\"\\w+\")\n",
    "\n",
    "class Sentence:\n",
    "    def __init__(self, text):\n",
    "        self.text = text\n",
    "        self.words = RE_WORD.findall(text)\n",
    "        \n",
    "    def __getitem__(self, index):\n",
    "        return self.words[index]\n",
    "    \n",
    "    def __len__(self):\n",
    "        return len(self.words)\n",
    "    \n",
    "s2 = Sentence(\"Pig and Pepper\")\n",
    "it2 = iter(s2)\n",
    "print(next(it2))  \n",
    "\n",
    "## it returns the \"pig\" because of the __getitem__ in the class method list.\n"
   ]
  },
  {
   "cell_type": "code",
   "execution_count": 19,
   "metadata": {},
   "outputs": [
    {
     "data": {
      "text/plain": [
       "['__class__',\n",
       " '__delattr__',\n",
       " '__dir__',\n",
       " '__doc__',\n",
       " '__eq__',\n",
       " '__format__',\n",
       " '__ge__',\n",
       " '__getattribute__',\n",
       " '__gt__',\n",
       " '__hash__',\n",
       " '__init__',\n",
       " '__init_subclass__',\n",
       " '__iter__',\n",
       " '__le__',\n",
       " '__length_hint__',\n",
       " '__lt__',\n",
       " '__ne__',\n",
       " '__new__',\n",
       " '__next__',\n",
       " '__reduce__',\n",
       " '__reduce_ex__',\n",
       " '__repr__',\n",
       " '__setattr__',\n",
       " '__setstate__',\n",
       " '__sizeof__',\n",
       " '__str__',\n",
       " '__subclasshook__']"
      ]
     },
     "execution_count": 19,
     "metadata": {},
     "output_type": "execute_result"
    }
   ],
   "source": [
    "dir(it2)"
   ]
  },
  {
   "cell_type": "markdown",
   "metadata": {},
   "source": [
    "## Example: Sentence iterator"
   ]
  },
  {
   "cell_type": "code",
   "execution_count": 1,
   "metadata": {},
   "outputs": [],
   "source": [
    "## create a sentence class\n",
    "import re, reprlib\n",
    "\n",
    "RE_WORD = re.compile(\"\\w+\")\n",
    "\n",
    "class Sentence():\n",
    "    \n",
    "    ## initial function\n",
    "    def __init__(self, text):\n",
    "        self.words = RE_WORD.findall(text)\n",
    "    \n",
    "    ## iter function\n",
    "    def __iter__(self):\n",
    "        return SentenceIterator(self.words)\n",
    "    \n",
    "    ## reprentation\n",
    "    def __repr__(self):\n",
    "        return  reprlib.repr(self.words)\n",
    "        \n",
    "\n",
    "\n",
    "\n",
    "class SentenceIterator():\n",
    "    '''\n",
    "    An interator should implement both the __iter__ and __next__ method,\n",
    "    and raise StopIteration error when necessary.\n",
    "    '''\n",
    "    \n",
    "    ## initial function\n",
    "    def __init__(self, text):\n",
    "        self.words = text\n",
    "        self.index = 0\n",
    "    \n",
    "    ## next function\n",
    "    def __next__(self):\n",
    "        try:\n",
    "            word =  self.words[self.index]\n",
    "        except IndexError:\n",
    "            raise StopIteration()\n",
    "    \n",
    "        self.index += 1\n",
    "        return word\n",
    "    \n",
    "    ## iter function\n",
    "    def __inter__(self):\n",
    "        return SentenceIterator(self.words)\n"
   ]
  },
  {
   "cell_type": "code",
   "execution_count": 2,
   "metadata": {},
   "outputs": [
    {
     "name": "stdout",
     "output_type": "stream",
     "text": [
      "['hello', 'world']\n",
      "<class '__main__.SentenceIterator'>\n",
      "hello\n"
     ]
    }
   ],
   "source": [
    "sent = Sentence(\"hello world\")\n",
    "print(sent)\n",
    "it = sent.__iter__()\n",
    "print(type(it))\n",
    "print(it.__next__())"
   ]
  },
  {
   "cell_type": "markdown",
   "metadata": {},
   "source": [
    "## Generator\n",
    "we can use generator to replace the functionality of iterator."
   ]
  },
  {
   "cell_type": "code",
   "execution_count": 18,
   "metadata": {},
   "outputs": [],
   "source": [
    "class Sentence():\n",
    "    def __init__(self, text):\n",
    "        self.text = text\n",
    "        self.words = RE_WORD.findall(self.text)\n",
    "        \n",
    "    def __repr__(self):\n",
    "        return reprlib.repr(self.text)\n",
    "    \n",
    "    def __iter__(self):\n",
    "        ## define a generator instead of an iterator\n",
    "        for i in self.words:\n",
    "            yield i\n",
    "        return"
   ]
  },
  {
   "cell_type": "code",
   "execution_count": 19,
   "metadata": {},
   "outputs": [
    {
     "name": "stdout",
     "output_type": "stream",
     "text": [
      "hello\n",
      "world\n"
     ]
    }
   ],
   "source": [
    "sent = Sentence(\"hello world\")\n",
    "for i in sent:   # for function need the __iter__() method\n",
    "    print(i)                                       "
   ]
  },
  {
   "cell_type": "markdown",
   "metadata": {},
   "source": [
    "## Example without the __iter__()"
   ]
  },
  {
   "cell_type": "code",
   "execution_count": 24,
   "metadata": {},
   "outputs": [],
   "source": [
    "## create a sentence class\n",
    "import re, reprlib\n",
    "\n",
    "RE_WORD = re.compile(\"\\w+\")\n",
    "\n",
    "class Sentence():\n",
    "    \n",
    "    ## initial function\n",
    "    def __init__(self, text):\n",
    "        self.words = RE_WORD.findall(text)\n",
    "        self.index = 0\n",
    "        \n",
    "    ## next function\n",
    "    def __next__(self):\n",
    "        try:\n",
    "            word =  self.words[self.index]\n",
    "        except IndexError:\n",
    "            raise StopIteration()\n",
    "    \n",
    "        self.index += 1\n",
    "        return word\n",
    "    \n",
    "    ## reprentation\n",
    "    def __repr__(self):\n",
    "        return  reprlib.repr(self.words)\n",
    "        \n"
   ]
  },
  {
   "cell_type": "code",
   "execution_count": 27,
   "metadata": {},
   "outputs": [
    {
     "name": "stdout",
     "output_type": "stream",
     "text": [
      "hello\n",
      "world\n"
     ]
    },
    {
     "ename": "StopIteration",
     "evalue": "",
     "output_type": "error",
     "traceback": [
      "\u001b[1;31m---------------------------------------------------------------------------\u001b[0m",
      "\u001b[1;31mIndexError\u001b[0m                                Traceback (most recent call last)",
      "\u001b[1;32m<ipython-input-24-05e533c7fb0e>\u001b[0m in \u001b[0;36m__next__\u001b[1;34m(self)\u001b[0m\n\u001b[0;32m     14\u001b[0m         \u001b[1;32mtry\u001b[0m\u001b[1;33m:\u001b[0m\u001b[1;33m\u001b[0m\u001b[1;33m\u001b[0m\u001b[0m\n\u001b[1;32m---> 15\u001b[1;33m             \u001b[0mword\u001b[0m \u001b[1;33m=\u001b[0m  \u001b[0mself\u001b[0m\u001b[1;33m.\u001b[0m\u001b[0mwords\u001b[0m\u001b[1;33m[\u001b[0m\u001b[0mself\u001b[0m\u001b[1;33m.\u001b[0m\u001b[0mindex\u001b[0m\u001b[1;33m]\u001b[0m\u001b[1;33m\u001b[0m\u001b[1;33m\u001b[0m\u001b[0m\n\u001b[0m\u001b[0;32m     16\u001b[0m         \u001b[1;32mexcept\u001b[0m \u001b[0mIndexError\u001b[0m\u001b[1;33m:\u001b[0m\u001b[1;33m\u001b[0m\u001b[1;33m\u001b[0m\u001b[0m\n",
      "\u001b[1;31mIndexError\u001b[0m: list index out of range",
      "\nDuring handling of the above exception, another exception occurred:\n",
      "\u001b[1;31mStopIteration\u001b[0m                             Traceback (most recent call last)",
      "\u001b[1;32m<ipython-input-27-9310f5ddc5f1>\u001b[0m in \u001b[0;36m<module>\u001b[1;34m\u001b[0m\n\u001b[0;32m      2\u001b[0m \u001b[0mprint\u001b[0m\u001b[1;33m(\u001b[0m\u001b[0mnext\u001b[0m\u001b[1;33m(\u001b[0m\u001b[0msent\u001b[0m\u001b[1;33m)\u001b[0m\u001b[1;33m)\u001b[0m\u001b[1;33m\u001b[0m\u001b[1;33m\u001b[0m\u001b[0m\n\u001b[0;32m      3\u001b[0m \u001b[0mprint\u001b[0m\u001b[1;33m(\u001b[0m\u001b[0mnext\u001b[0m\u001b[1;33m(\u001b[0m\u001b[0msent\u001b[0m\u001b[1;33m)\u001b[0m\u001b[1;33m)\u001b[0m\u001b[1;33m\u001b[0m\u001b[1;33m\u001b[0m\u001b[0m\n\u001b[1;32m----> 4\u001b[1;33m \u001b[0mprint\u001b[0m\u001b[1;33m(\u001b[0m\u001b[0mnext\u001b[0m\u001b[1;33m(\u001b[0m\u001b[0msent\u001b[0m\u001b[1;33m)\u001b[0m\u001b[1;33m)\u001b[0m\u001b[1;33m\u001b[0m\u001b[1;33m\u001b[0m\u001b[0m\n\u001b[0m",
      "\u001b[1;32m<ipython-input-24-05e533c7fb0e>\u001b[0m in \u001b[0;36m__next__\u001b[1;34m(self)\u001b[0m\n\u001b[0;32m     15\u001b[0m             \u001b[0mword\u001b[0m \u001b[1;33m=\u001b[0m  \u001b[0mself\u001b[0m\u001b[1;33m.\u001b[0m\u001b[0mwords\u001b[0m\u001b[1;33m[\u001b[0m\u001b[0mself\u001b[0m\u001b[1;33m.\u001b[0m\u001b[0mindex\u001b[0m\u001b[1;33m]\u001b[0m\u001b[1;33m\u001b[0m\u001b[1;33m\u001b[0m\u001b[0m\n\u001b[0;32m     16\u001b[0m         \u001b[1;32mexcept\u001b[0m \u001b[0mIndexError\u001b[0m\u001b[1;33m:\u001b[0m\u001b[1;33m\u001b[0m\u001b[1;33m\u001b[0m\u001b[0m\n\u001b[1;32m---> 17\u001b[1;33m             \u001b[1;32mraise\u001b[0m \u001b[0mStopIteration\u001b[0m\u001b[1;33m(\u001b[0m\u001b[1;33m)\u001b[0m\u001b[1;33m\u001b[0m\u001b[1;33m\u001b[0m\u001b[0m\n\u001b[0m\u001b[0;32m     18\u001b[0m \u001b[1;33m\u001b[0m\u001b[0m\n\u001b[0;32m     19\u001b[0m         \u001b[0mself\u001b[0m\u001b[1;33m.\u001b[0m\u001b[0mindex\u001b[0m \u001b[1;33m+=\u001b[0m \u001b[1;36m1\u001b[0m\u001b[1;33m\u001b[0m\u001b[1;33m\u001b[0m\u001b[0m\n",
      "\u001b[1;31mStopIteration\u001b[0m: "
     ]
    }
   ],
   "source": [
    "sent = Sentence(\"hello world\")\n",
    "print(next(sent))   \n",
    "print(next(sent))\n",
    "print(next(sent))"
   ]
  },
  {
   "cell_type": "markdown",
   "metadata": {},
   "source": [
    "## Remark: For loop actually automatically does two things:\n",
    "1. call the __iter__() function to get an iterator or generator, which requires the looped objects should be iterable.\n",
    "2. call the __next__() on the iterator sequentially.\n",
    "3. until the end of the iterator, raise the index error and break the for loop."
   ]
  },
  {
   "cell_type": "code",
   "execution_count": 28,
   "metadata": {},
   "outputs": [],
   "source": [
    "## create a sentence class\n",
    "import re, reprlib\n",
    "\n",
    "RE_WORD = re.compile(\"\\w+\")\n",
    "\n",
    "class Sentence():\n",
    "    \n",
    "    ## initial function\n",
    "    def __init__(self, text):\n",
    "        self.words = RE_WORD.findall(text)\n",
    "    \n",
    "    ## iter function\n",
    "    def __iter__(self):\n",
    "        return SentenceIterator(self.words)\n",
    "    \n",
    "    ## reprentation\n",
    "    def __repr__(self):\n",
    "        return  reprlib.repr(self.words)\n",
    "        \n",
    "\n",
    "\n",
    "\n",
    "class SentenceIterator():\n",
    "    '''\n",
    "    An interator should implement both the __iter__ and __next__ method,\n",
    "    and raise StopIteration error when necessary.\n",
    "    '''\n",
    "    \n",
    "    ## initial function\n",
    "    def __init__(self, text):\n",
    "        self.words = text\n",
    "        self.index = 0\n",
    "    \n",
    "    ## next function\n",
    "    def __next__(self):\n",
    "        try:\n",
    "            word =  self.words[self.index]\n",
    "        except IndexError:\n",
    "            raise StopIteration()\n",
    "    \n",
    "        self.index += 1\n",
    "        return word\n",
    "    \n"
   ]
  },
  {
   "cell_type": "code",
   "execution_count": 30,
   "metadata": {},
   "outputs": [
    {
     "ename": "TypeError",
     "evalue": "'SentenceIterator' object is not iterable",
     "output_type": "error",
     "traceback": [
      "\u001b[1;31m---------------------------------------------------------------------------\u001b[0m",
      "\u001b[1;31mTypeError\u001b[0m                                 Traceback (most recent call last)",
      "\u001b[1;32m<ipython-input-30-0dcc9b2309f8>\u001b[0m in \u001b[0;36m<module>\u001b[1;34m\u001b[0m\n\u001b[0;32m      1\u001b[0m \u001b[0msent\u001b[0m \u001b[1;33m=\u001b[0m \u001b[0mSentence\u001b[0m\u001b[1;33m(\u001b[0m\u001b[1;34m\"hello world\"\u001b[0m\u001b[1;33m)\u001b[0m\u001b[1;33m\u001b[0m\u001b[1;33m\u001b[0m\u001b[0m\n\u001b[1;32m----> 2\u001b[1;33m \u001b[1;32mfor\u001b[0m \u001b[0mi\u001b[0m \u001b[1;32min\u001b[0m \u001b[0msent\u001b[0m\u001b[1;33m.\u001b[0m\u001b[0m__iter__\u001b[0m\u001b[1;33m(\u001b[0m\u001b[1;33m)\u001b[0m\u001b[1;33m:\u001b[0m\u001b[1;33m\u001b[0m\u001b[1;33m\u001b[0m\u001b[0m\n\u001b[0m\u001b[0;32m      3\u001b[0m     \u001b[0mprint\u001b[0m\u001b[1;33m(\u001b[0m\u001b[0mi\u001b[0m\u001b[1;33m)\u001b[0m\u001b[1;33m\u001b[0m\u001b[1;33m\u001b[0m\u001b[0m\n",
      "\u001b[1;31mTypeError\u001b[0m: 'SentenceIterator' object is not iterable"
     ]
    }
   ],
   "source": [
    "sent = Sentence(\"hello world\")\n",
    "for i in sent.__iter__():\n",
    "    print(i)"
   ]
  },
  {
   "cell_type": "code",
   "execution_count": 32,
   "metadata": {},
   "outputs": [
    {
     "name": "stdout",
     "output_type": "stream",
     "text": [
      "hello\n",
      "world\n"
     ]
    }
   ],
   "source": [
    "for i in sent:\n",
    "    print(i)"
   ]
  },
  {
   "cell_type": "markdown",
   "metadata": {},
   "source": [
    "### Generator Example"
   ]
  },
  {
   "cell_type": "code",
   "execution_count": 59,
   "metadata": {},
   "outputs": [
    {
     "name": "stdout",
     "output_type": "stream",
     "text": [
      "one\n",
      "iteration: 1\n",
      "two\n",
      "iteration: 2\n",
      "three\n",
      "iteration: 3\n",
      "end\n"
     ]
    }
   ],
   "source": [
    "def gen123():\n",
    "    print('one')\n",
    "    yield \"1\"\n",
    "    print('two')\n",
    "    yield \"2\"\n",
    "    print(\"three\")\n",
    "    yield \"3\"\n",
    "    print('end')\n",
    "\n",
    "for i in gen123():\n",
    "    print(\"iteration:\", i)"
   ]
  },
  {
   "cell_type": "code",
   "execution_count": 60,
   "metadata": {},
   "outputs": [
    {
     "name": "stdout",
     "output_type": "stream",
     "text": [
      "iteration: 1\n",
      "iteration: 2\n",
      "iteration: 3\n"
     ]
    }
   ],
   "source": [
    "def gen123():\n",
    "    for i in [1,2,3]:\n",
    "        yield i\n",
    "\n",
    "for i in gen123():\n",
    "    print(\"iteration:\", i)"
   ]
  },
  {
   "cell_type": "code",
   "execution_count": null,
   "metadata": {},
   "outputs": [],
   "source": []
  }
 ],
 "metadata": {
  "kernelspec": {
   "display_name": "Python 3",
   "language": "python",
   "name": "python3"
  },
  "language_info": {
   "codemirror_mode": {
    "name": "ipython",
    "version": 3
   },
   "file_extension": ".py",
   "mimetype": "text/x-python",
   "name": "python",
   "nbconvert_exporter": "python",
   "pygments_lexer": "ipython3",
   "version": "3.7.4"
  }
 },
 "nbformat": 4,
 "nbformat_minor": 4
}
